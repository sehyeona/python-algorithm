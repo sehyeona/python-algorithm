{
 "nbformat": 4,
 "nbformat_minor": 2,
 "metadata": {
  "language_info": {
   "name": "python",
   "codemirror_mode": {
    "name": "ipython",
    "version": 3
   }
  },
  "orig_nbformat": 2,
  "file_extension": ".py",
  "mimetype": "text/x-python",
  "name": "python",
  "npconvert_exporter": "python",
  "pygments_lexer": "ipython3",
  "version": 3,
  "kernelspec": {
   "name": "python_defaultSpec_1595411099464",
   "display_name": "Python 3.7.4 64-bit ('base': conda)"
  }
 },
 "cells": [
  {
   "cell_type": "markdown",
   "metadata": {},
   "source": [
    "# CHAPTER01 숫자"
   ]
  },
  {
   "cell_type": "markdown",
   "metadata": {},
   "source": [
    "### 1.1 정수"
   ]
  },
  {
   "cell_type": "markdown",
   "metadata": {},
   "source": [
    "* 정수는 불변형 객체이다.  \n",
    "* 불변형 객체는 객체와 변수 참조 간의 차이가 없다.  \n",
    "* 파이썬의 정수는 최소 32비트(4바이트) 이상의 크기를 가진다.  "
   ]
  },
  {
   "cell_type": "code",
   "execution_count": 1,
   "metadata": {},
   "outputs": [
    {
     "output_type": "execute_result",
     "data": {
      "text/plain": "10"
     },
     "metadata": {},
     "execution_count": 1
    }
   ],
   "source": [
    "# 파이썬에서 정수의 바이트를 확인하는 메서드\n",
    "(999).bit_length()"
   ]
  },
  {
   "cell_type": "code",
   "execution_count": 2,
   "metadata": {},
   "outputs": [
    {
     "output_type": "execute_result",
     "data": {
      "text/plain": "(11, 3, 4)"
     },
     "metadata": {},
     "execution_count": 2
    }
   ],
   "source": [
    "# int 객체를 생성할 때 문자열과 진법기준(ex. 10진법이 디폴트, 2진법, 3진법)을 인자로 받아 그 값을 반환\n",
    "s = '11'\n",
    "int(s), int(s, 2), int(s,3)"
   ]
  },
  {
   "cell_type": "markdown",
   "metadata": {},
   "source": [
    "### 1.2 부동소수점"
   ]
  },
  {
   "cell_type": "markdown",
   "metadata": {},
   "source": [
    "* 부동소수점(실수 float)는 불변형 객체이다.  \n",
    "* IEEE 754 표준을 따르며, 단정도 방식에서 32비트를 이용하여 표현  \n",
    "* 1비트는 부호, 8비트는 지수, 23비트틑 유효 자릿수(가수) 로 표현된다.  \n",
    "* 배정도 방식에서는 64비트를 이용하여 표현하는데, 1비트가 부호, 52비트가 가수, 11비트가 지수이다."
   ]
  },
  {
   "cell_type": "markdown",
   "metadata": {},
   "source": [
    "#### 소수를 단정도 방식으로 표현  \n",
    "1. 2진법으로 변환  \n",
    "2. 소수점을 왼쪽으로 이동시켜 한자리만 남게하는 방식으로, 정규화 진행  \n",
    "3. 소수점 오른쪽 부분의 뒤에 0을 추가하여 가수로, 정규화 시키기 위해 줄인 만큼을 지수로 사용\n",
    "4. 지수로 사용할 때 바이어스를 더해 준다. 바이어스에 대해서는 더 살펴보자"
   ]
  },
  {
   "cell_type": "code",
   "execution_count": 3,
   "metadata": {},
   "outputs": [
    {
     "output_type": "execute_result",
     "data": {
      "text/plain": "(False, True, False, False)"
     },
     "metadata": {},
     "execution_count": 3
    }
   ],
   "source": [
    "0.2*3==6, 1.2-0.2==1.0, 1.2-0.1==1.1, 0.1*0.1==0.01"
   ]
  },
  {
   "cell_type": "markdown",
   "metadata": {},
   "source": [
    "소수를 단정도 방식으로 표현하기 때문에 논리적으로는 같아도 표현이 달라, 섣불리 동등성 테스트를 진행하면 안된다.\n",
    "보통 근사하는 방식을 이용한다"
   ]
  },
  {
   "cell_type": "code",
   "execution_count": 5,
   "metadata": {},
   "outputs": [
    {
     "output_type": "execute_result",
     "data": {
      "text/plain": "True"
     },
     "metadata": {},
     "execution_count": 5
    }
   ],
   "source": [
    "def a(x, y, places=7):\n",
    "    return round(abs(x-y), places) == 0\n",
    "a(1.2-0.1, 1.1)"
   ]
  },
  {
   "cell_type": "markdown",
   "metadata": {},
   "source": [
    "* 파이썬에서 나누기는 항상 부동소수점을 반환 divmod를 이용하여 quotient 와 remainder를 정수로 반환가능  \n",
    "* round()는 반올림 함수로서 소수점부터 정수자리(음수를 인자로)까지 다양하게 가능  \n",
    "* as_inter_ration로 부동소수점의 분수표현 가능  "
   ]
  },
  {
   "cell_type": "code",
   "execution_count": 8,
   "metadata": {},
   "outputs": [
    {
     "output_type": "execute_result",
     "data": {
      "text/plain": "((6, 3), 100.0, 114.0, 113.87, (35, 4))"
     },
     "metadata": {},
     "execution_count": 8
    }
   ],
   "source": [
    "divmod(45,7), round(113.866, -2), round(113.866, 0), round(113.866, 2), 8.75.as_integer_ratio()"
   ]
  },
  {
   "cell_type": "markdown",
   "metadata": {},
   "source": [
    "### 1.3 복소수\n",
    "파이썬에서 복소수는 z = a + bj 와 같이 부동소수점 쌍으로 표현한다.(오 왜 j라 했을까 i가 아니고?!)  \n",
    "real과 imag는 필드값으로 conjugate는 메서드로 사용가능, 또한 복소수를 다루기 위해서 cmath를 임포트 해야한다. "
   ]
  },
  {
   "cell_type": "code",
   "execution_count": 11,
   "metadata": {},
   "outputs": [
    {
     "output_type": "execute_result",
     "data": {
      "text/plain": "(3.0, 4.0, (3-4j))"
     },
     "metadata": {},
     "execution_count": 11
    }
   ],
   "source": [
    "z = 3 + 4j\n",
    "z.real, z.imag, z.conjugate()"
   ]
  },
  {
   "cell_type": "markdown",
   "metadata": {},
   "source": [
    "### 1.4 분수\n",
    "분수는 Fraction 모듈을 사용하여 표현한다. 다음 함수들로 이해해보자"
   ]
  },
  {
   "cell_type": "code",
   "execution_count": 16,
   "metadata": {
    "tags": []
   },
   "outputs": [
    {
     "output_type": "stream",
     "name": "stdout",
     "text": "테스트 통과!\n"
    }
   ],
   "source": [
    "from fractions import Fraction\n",
    "\n",
    "def rounding_floats(n, places=7):\n",
    "    return round(n, places)\n",
    "\n",
    "def float_to_fractions(n):\n",
    "    return Fraction(*n.as_integer_ratio())\n",
    "\n",
    "def get_denominator(n1, n2):\n",
    "    f = Fraction(n1, n2)\n",
    "    return f.denominator\n",
    "\n",
    "def get_numerator(n1, n2):\n",
    "    f = Fraction(n1, n2)\n",
    "    return f.numerator\n",
    "\n",
    "def test_testing_float():\n",
    "    assert(rounding_floats(1.25, 1) == 1.2)\n",
    "    assert(rounding_floats(12.5, -1) == 10)\n",
    "    assert(float_to_fractions(1.25) == 5/4)\n",
    "    assert(get_denominator(5, 7) == 7)\n",
    "    assert(get_numerator(5, 7) == 5)\n",
    "    print(\"테스트 통과!\")\n",
    "\n",
    "test_testing_float()"
   ]
  },
  {
   "cell_type": "code",
   "execution_count": 22,
   "metadata": {},
   "outputs": [
    {
     "output_type": "execute_result",
     "data": {
      "text/plain": "(Fraction(4, 5), 0.8, True, False)"
     },
     "metadata": {},
     "execution_count": 22
    }
   ],
   "source": [
    "Fraction(4,5), 4/5, Fraction(*(4/5).as_integer_ratio()) == 4/5, Fraction(4, 5) == 4/5"
   ]
  },
  {
   "cell_type": "markdown",
   "metadata": {},
   "source": [
    "### 1.5 decimal 모듈\n",
    "정확한 10진법의 부동소수점 숫자가 필요한 경우 decimal.Decimal 객체를 사용할 수 있다.  \n",
    "인자로 정수, 문자열을 받으며 decimal.Decimal.from_float()을 이용해 부동소수점에서도 받을 수 있다.    \n",
    "이 모듈을 이용해 동등성 비교등 부동 소수점에서 문제를 쉽게 해겨할 수 있다.  "
   ]
  },
  {
   "cell_type": "code",
   "execution_count": 26,
   "metadata": {},
   "outputs": [
    {
     "output_type": "execute_result",
     "data": {
      "text/plain": "(False, True)"
     },
     "metadata": {},
     "execution_count": 26
    }
   ],
   "source": [
    "e1 = sum([0.1 for i in range(10)]) == 1.0\n",
    "from decimal import Decimal\n",
    "e2 = sum([Decimal('0.1') for i in range(10)]) == Decimal('1.0')\n",
    "e1, e2"
   ]
  },
  {
   "cell_type": "markdown",
   "metadata": {},
   "source": [
    "### 1.6 2진수 8진수 16진수"
   ]
  },
  {
   "cell_type": "code",
   "execution_count": 27,
   "metadata": {},
   "outputs": [
    {
     "output_type": "execute_result",
     "data": {
      "text/plain": "('0b1111100111', '0o1747', '0x3e7')"
     },
     "metadata": {},
     "execution_count": 27
    }
   ],
   "source": [
    "bin(999), oct(999), hex(999)"
   ]
  },
  {
   "cell_type": "code",
   "execution_count": null,
   "metadata": {},
   "outputs": [],
   "source": []
  }
 ]
}