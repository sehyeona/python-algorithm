{
 "nbformat": 4,
 "nbformat_minor": 2,
 "metadata": {
  "language_info": {
   "name": "python",
   "codemirror_mode": {
    "name": "ipython",
    "version": 3
   }
  },
  "orig_nbformat": 2,
  "file_extension": ".py",
  "mimetype": "text/x-python",
  "name": "python",
  "npconvert_exporter": "python",
  "pygments_lexer": "ipython3",
  "version": 3
 },
 "cells": [
  {
   "cell_type": "markdown",
   "execution_count": null,
   "metadata": {},
   "outputs": [],
   "source": [
    "# CHAPTER01 숫자"
   ]
  },
  {
   "cell_type": "markdown",
   "execution_count": 1,
   "metadata": {},
   "outputs": [],
   "source": [
    "### 1.1 정수"
   ]
  },
  {
   "cell_type": "markdown",
   "execution_count": null,
   "metadata": {},
   "outputs": [],
   "source": [
    "* 정수는 불변형 객체이다.  \n",
    "* 불변형 객체는 객체와 변수 참조 간의 차이가 없다.  \n",
    "* 파이썬의 정수는 최소 32비트(4바이트) 이상의 크기를 가진다.  "
   ]
  },
  {
   "cell_type": "code",
   "execution_count": 5,
   "metadata": {},
   "outputs": [
    {
     "data": {
      "text/plain": "10"
     },
     "execution_count": 5,
     "metadata": {},
     "output_type": "execute_result"
    }
   ],
   "source": [
    "# 파이썬에서 정수의 바이트를 확인하는 메서드\n",
    "(999).bit_length()"
   ]
  },
  {
   "cell_type": "code",
   "execution_count": 6,
   "metadata": {},
   "outputs": [
    {
     "data": {
      "text/plain": "(11, 3, 4)"
     },
     "execution_count": 6,
     "metadata": {},
     "output_type": "execute_result"
    }
   ],
   "source": [
    "# int 객체를 생성할 때 문자열과 진법기준(ex. 10진법이 디폴트, 2진법, 3진법)을 인자로 받아 그 값을 반환\n",
    "s = '11'\n",
    "int(s), int(s, 2), int(s,3)"
   ]
  },
  {
   "cell_type": "markdown",
   "execution_count": null,
   "metadata": {},
   "outputs": [],
   "source": [
    "### 1.2 부동소수점"
   ]
  },
  {
   "cell_type": "markdown",
   "execution_count": null,
   "metadata": {},
   "outputs": [],
   "source": [
    "* 부동소수점(실수 float)는 불변형 객체이다.  \n",
    "* IEEE 754 표준을 따르며, 단정도 방식에서 32비트를 이용하여 표현  \n",
    "* 1비트는 부호, 8비트는 지수, 23비트틑 유효 자릿수(가수) 로 표현된다.  \n",
    "* 배정도 방식에서는 64비트를 이용하여 표현하는데, 1비트가 부호, 52비트가 가수, 11비트가 지수이다."
   ]
  },
  {
   "cell_type": "markdown",
   "execution_count": 7,
   "metadata": {},
   "outputs": [
    {
     "ename": "SyntaxError",
     "evalue": "invalid syntax (<ipython-input-7-e1f23d5c594d>, line 1)",
     "output_type": "error",
     "traceback": [
      "\u001b[1;36m  File \u001b[1;32m\"<ipython-input-7-e1f23d5c594d>\"\u001b[1;36m, line \u001b[1;32m1\u001b[0m\n\u001b[1;33m    소수를 단정도 방식으로 표현\u001b[0m\n\u001b[1;37m          ^\u001b[0m\n\u001b[1;31mSyntaxError\u001b[0m\u001b[1;31m:\u001b[0m invalid syntax\n"
     ]
    }
   ],
   "source": [
    "#### 소수를 단정도 방식으로 표현  \n",
    "1. 2진법으로 변환  \n",
    "2. 소수점을 왼쪽으로 이동시켜 한자리만 남게하는 방식으로, 정규화 진행  \n",
    "3. 소수점 오른쪽 부분의 뒤에 0을 추가하여 가수로, 정규화 시키기 위해 줄인 만큼을 지수로 사용\n",
    "4. 지수로 사용할 때 바이어스를 더해 준다. 바이어스에 대해서는 더 살펴보자"
   ]
  },
  {
   "cell_type": "code",
   "execution_count": 14,
   "metadata": {},
   "outputs": [
    {
     "data": {
      "text/plain": "(False, True, False, False)"
     },
     "execution_count": 14,
     "metadata": {},
     "output_type": "execute_result"
    }
   ],
   "source": [
    "0.2*3==6, 1.2-0.2==1.0, 1.2-0.1==1.1, 0.1*0.1==0.01"
   ]
  },
  {
   "cell_type": "code",
   "execution_count": null,
   "metadata": {},
   "outputs": [],
   "source": []
  }
 ]
}